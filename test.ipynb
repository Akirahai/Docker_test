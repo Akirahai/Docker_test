{
 "cells": [
  {
   "cell_type": "code",
   "execution_count": 3,
   "id": "581532d0",
   "metadata": {},
   "outputs": [
    {
     "name": "stdout",
     "output_type": "stream",
     "text": [
      "['CRYPTO', 'US_PASSPORT', 'EMAIL_ADDRESS', 'US_DRIVER_LICENSE', 'CREDIT_CARD', 'PHONE_NUMBER', 'URL', 'UK_NHS', 'IBAN_CODE', 'US_SSN', 'LOCATION', 'MEDICAL_LICENSE', 'US_BANK_NUMBER', 'PERSON', 'NRP', 'IP_ADDRESS', 'US_ITIN', 'DATE_TIME']\n"
     ]
    }
   ],
   "source": [
    "from presidio_analyzer import AnalyzerEngine\n",
    "analyzer = AnalyzerEngine()\n",
    "print(analyzer.get_supported_entities(language=\"en\"))"
   ]
  },
  {
   "cell_type": "code",
   "execution_count": 13,
   "id": "2dc0e6b1",
   "metadata": {},
   "outputs": [],
   "source": [
    "from PIL import Image\n",
    "from presidio_image_redactor import ImageRedactorEngine\n",
    "\n",
    "# Get the image to redact using PIL lib (pillow)\n",
    "image = Image.open(\"images/driver_license.png\")\n",
    "\n",
    "# Initialize the engine\n",
    "engine = ImageRedactorEngine()\n",
    "\n",
    "# Redact the image with pink color\n",
    "redacted_image = engine.redact(image, language =\"en\")\n",
    "\n",
    "# save the redacted image \n",
    "redacted_image.save(\"images/redacted_new.png\")\n",
    "# uncomment to open the image for viewing\n",
    "# redacted_image.show()"
   ]
  },
  {
   "cell_type": "code",
   "execution_count": 10,
   "id": "f640ddde",
   "metadata": {},
   "outputs": [
    {
     "name": "stdout",
     "output_type": "stream",
     "text": [
      "5.5.1\n"
     ]
    }
   ],
   "source": [
    "import pytesseract\n",
    "pytesseract.pytesseract.tesseract_cmd = \"/home/long_2/hai/fastapi_docker/.venv/bin/tesseract.AppImage\"\n",
    "print(pytesseract.get_tesseract_version())"
   ]
  }
 ],
 "metadata": {
  "kernelspec": {
   "display_name": ".venv",
   "language": "python",
   "name": "python3"
  },
  "language_info": {
   "codemirror_mode": {
    "name": "ipython",
    "version": 3
   },
   "file_extension": ".py",
   "mimetype": "text/x-python",
   "name": "python",
   "nbconvert_exporter": "python",
   "pygments_lexer": "ipython3",
   "version": "3.12.4"
  }
 },
 "nbformat": 4,
 "nbformat_minor": 5
}
